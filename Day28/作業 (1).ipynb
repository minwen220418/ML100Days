{
 "cells": [
  {
   "cell_type": "markdown",
   "metadata": {},
   "source": [
    "## 作業:\n",
    "今天學到五種分配，包含，   \n",
    "離散均勻分配( Discrete Uniform Distribution )   \n",
    "伯努利分配( Bernoulli Distribution )   \n",
    "二項分配(Binomial Distribution)  \n",
    "負二項分配(Negative Binomial Distribution)  \n",
    "超幾何分配(Hypergeometric Distribution)   \n",
    "今天我們透過作業中的問題，回想今天的內容吧!  "
   ]
  },
  {
   "cell_type": "markdown",
   "metadata": {},
   "source": [
    "### Q1: 大樂透的頭獎，你必須從49個挑選出 6 個號碼，\n",
    "### 且這六個號碼與頭獎的六個號碼一致，頭獎的機率是屬於哪一種分配?"
   ]
  },
  {
   "cell_type": "code",
   "execution_count": null,
   "metadata": {
    "collapsed": true
   },
   "outputs": [],
   "source": [
    "#超幾何分配\n",
    "#超幾何分配(Hypergeometric Distribution)描述了\n",
    "#由有限個物件中抽出n個物件，成功抽出指定種類的物件的個數（不歸還 （without replacement）)\n",
    "#若隨機變量X 服從參數，則記為  H(n,K,N)，\n",
    "#𝑁 : 共有幾個物件, 𝑁 =0,1,…\n",
    "#𝐾 : 𝑁 個物件中，有 𝐾 個是你關心的物件類型個數, 𝐾 =0,1,2,…, 𝑁\n",
    "#𝑛 : K個物件，要抽出 𝑛 個物件, 𝑛 =0,1,…, 𝑁\n",
    "\n"
   ]
  },
  {
   "cell_type": "markdown",
   "metadata": {},
   "source": [
    "### Q2: 運用範例的 python 程式碼，計算大樂透的中頭獎機率?"
   ]
  },
  {
   "cell_type": "code",
   "execution_count": 2,
   "metadata": {
    "collapsed": true
   },
   "outputs": [
    {
     "output_type": "stream",
     "name": "stdout",
     "text": [
      "7.151123842018516e-08\n"
     ]
    }
   ],
   "source": [
    "import numpy as np\n",
    "import pandas as pd\n",
    "from scipy.special import comb\n",
    "# 1.定義超幾何分配的基本資訊\n",
    "N=49  #大樂透49個號碼\n",
    "K=6  #共抽出6個號碼\n",
    "n=6  #抽出頭獎的6個號碼\n",
    "probs = (comb(6,6) * comb(43,0)) / comb(49,6)\n",
    "print(probs)"
   ]
  },
  {
   "cell_type": "markdown",
   "metadata": {},
   "source": [
    "### Q3: 你覺得電腦簽注的中獎機率，和人腦簽注相比，哪一個機率高?"
   ]
  },
  {
   "cell_type": "code",
   "execution_count": 3,
   "metadata": {
    "collapsed": true
   },
   "outputs": [],
   "source": [
    "#樂透公正性，機率一樣"
   ]
  },
  {
   "cell_type": "code",
   "execution_count": null,
   "metadata": {},
   "outputs": [],
   "source": []
  }
 ],
 "metadata": {
  "colab": {
   "name": "Day33.YOLO 細節理解 - 網路輸出的後處理_HW.ipynb",
   "provenance": []
  },
  "kernelspec": {
   "display_name": "Python 3",
   "language": "python",
   "name": "python3"
  },
  "language_info": {
   "codemirror_mode": {
    "name": "ipython",
    "version": 3
   },
   "file_extension": ".py",
   "mimetype": "text/x-python",
   "name": "python",
   "nbconvert_exporter": "python",
   "pygments_lexer": "ipython3",
   "version": "3.7.6-final"
  }
 },
 "nbformat": 4,
 "nbformat_minor": 1
}