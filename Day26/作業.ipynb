{
 "cells": [
  {
   "attachments": {},
   "cell_type": "markdown",
   "metadata": {},
   "source": [
    "## 作業:\n",
    "今天學到不同統計量之間特性，  \n",
    "試著分析男生女生身高資料，  \n",
    "試著回答下面的問題:  \n",
    "Q1:試著用今天所教的內容，如何描述這兩組資料的樣態?    \n",
    "Q2: 請問男生和女生在平均身高上誰比較高?   \n",
    "Q3:請問第二題的答案和日常生活中觀察的一致嗎? 如果不一致，你覺得原因可能為何?    \n",
    "上述問題透過  python 語法進行運算，\n",
    "並將上述答案填寫在 (google 表單)[https://forms.gle/EDdU2Zfq8zLvDea18]\n",
    "![](作業資料圖檔.PNG)"
   ]
  },
  {
   "cell_type": "code",
   "execution_count": 1,
   "metadata": {
    "colab": {
     "base_uri": "https://localhost:8080/",
     "height": 34
    },
    "colab_type": "code",
    "collapsed": true,
    "executionInfo": {
     "elapsed": 1558,
     "status": "ok",
     "timestamp": 1578021044012,
     "user": {
      "displayName": "Mora chen",
      "photoUrl": "https://lh3.googleusercontent.com/a-/AAuE7mB40f7sDArbZ5_DYq02nNcnLD0Ryaf7AhsASSQeLQ=s64",
      "userId": "03171203089166907199"
     },
     "user_tz": -480
    },
    "id": "yz28_IgkYdBW",
    "outputId": "a12f486c-18b3-4fb5-d06c-f162aebd9444"
   },
   "outputs": [],
   "source": [
    "# library\n",
    "import matplotlib.pyplot as plt\n",
    "import numpy as np\n",
    "import pandas as pd\n",
    "from scipy import stats\n",
    "import math\n",
    "import statistics\n",
    "import seaborn as sns"
   ]
  },
  {
   "cell_type": "code",
   "execution_count": 24,
   "metadata": {},
   "outputs": [
    {
     "output_type": "execute_result",
     "data": {
      "text/plain": [
       "    sex  height\n",
       "0   boy     164\n",
       "1   boy     175\n",
       "2   boy     183\n",
       "3   boy     173\n",
       "4   boy     176\n",
       "5   boy     159\n",
       "6   boy     165\n",
       "7   boy     165\n",
       "8   boy     169\n",
       "9   boy     151\n",
       "10  boy     156\n",
       "11  boy     163\n",
       "12  boy     169\n",
       "13  boy     144\n",
       "14  boy     170\n",
       "15  boy     177\n",
       "16  boy     165\n",
       "17  boy     160\n",
       "18  boy     164\n",
       "19  boy     171"
      ],
      "text/html": "<div>\n<style scoped>\n    .dataframe tbody tr th:only-of-type {\n        vertical-align: middle;\n    }\n\n    .dataframe tbody tr th {\n        vertical-align: top;\n    }\n\n    .dataframe thead th {\n        text-align: right;\n    }\n</style>\n<table border=\"1\" class=\"dataframe\">\n  <thead>\n    <tr style=\"text-align: right;\">\n      <th></th>\n      <th>sex</th>\n      <th>height</th>\n    </tr>\n  </thead>\n  <tbody>\n    <tr>\n      <th>0</th>\n      <td>boy</td>\n      <td>164</td>\n    </tr>\n    <tr>\n      <th>1</th>\n      <td>boy</td>\n      <td>175</td>\n    </tr>\n    <tr>\n      <th>2</th>\n      <td>boy</td>\n      <td>183</td>\n    </tr>\n    <tr>\n      <th>3</th>\n      <td>boy</td>\n      <td>173</td>\n    </tr>\n    <tr>\n      <th>4</th>\n      <td>boy</td>\n      <td>176</td>\n    </tr>\n    <tr>\n      <th>5</th>\n      <td>boy</td>\n      <td>159</td>\n    </tr>\n    <tr>\n      <th>6</th>\n      <td>boy</td>\n      <td>165</td>\n    </tr>\n    <tr>\n      <th>7</th>\n      <td>boy</td>\n      <td>165</td>\n    </tr>\n    <tr>\n      <th>8</th>\n      <td>boy</td>\n      <td>169</td>\n    </tr>\n    <tr>\n      <th>9</th>\n      <td>boy</td>\n      <td>151</td>\n    </tr>\n    <tr>\n      <th>10</th>\n      <td>boy</td>\n      <td>156</td>\n    </tr>\n    <tr>\n      <th>11</th>\n      <td>boy</td>\n      <td>163</td>\n    </tr>\n    <tr>\n      <th>12</th>\n      <td>boy</td>\n      <td>169</td>\n    </tr>\n    <tr>\n      <th>13</th>\n      <td>boy</td>\n      <td>144</td>\n    </tr>\n    <tr>\n      <th>14</th>\n      <td>boy</td>\n      <td>170</td>\n    </tr>\n    <tr>\n      <th>15</th>\n      <td>boy</td>\n      <td>177</td>\n    </tr>\n    <tr>\n      <th>16</th>\n      <td>boy</td>\n      <td>165</td>\n    </tr>\n    <tr>\n      <th>17</th>\n      <td>boy</td>\n      <td>160</td>\n    </tr>\n    <tr>\n      <th>18</th>\n      <td>boy</td>\n      <td>164</td>\n    </tr>\n    <tr>\n      <th>19</th>\n      <td>boy</td>\n      <td>171</td>\n    </tr>\n  </tbody>\n</table>\n</div>"
     },
     "metadata": {},
     "execution_count": 24
    }
   ],
   "source": [
    "## 輸入資料\n",
    "boy_height = pd.DataFrame([['boy',164],['boy',175],['boy',183],['boy',173],['boy',176],['boy',159],['boy',165],['boy',165],['boy',169],['boy',151],['boy',156],['boy',163],['boy',169],['boy',144],['boy',170],['boy',177],['boy',165],['boy',160],['boy',164],['boy',171]],columns=['sex','height'])\n",
    "boy_height"
   ]
  },
  {
   "cell_type": "code",
   "execution_count": 25,
   "metadata": {},
   "outputs": [
    {
     "output_type": "execute_result",
     "data": {
      "text/plain": [
       "     sex  height\n",
       "0   girl     169\n",
       "1   girl     170\n",
       "2   girl     162\n",
       "3   girl     154\n",
       "4   girl     183\n",
       "5   girl     173\n",
       "6   girl     169\n",
       "7   girl     167\n",
       "8   girl     170\n",
       "9   girl     185\n",
       "10  girl     162\n",
       "11  girl     175\n",
       "12  girl     168\n",
       "13  girl     151\n",
       "14  girl     181\n",
       "15  girl     170\n",
       "16  girl     182\n",
       "17  girl     156\n",
       "18  girl     159\n",
       "19  girl     160"
      ],
      "text/html": "<div>\n<style scoped>\n    .dataframe tbody tr th:only-of-type {\n        vertical-align: middle;\n    }\n\n    .dataframe tbody tr th {\n        vertical-align: top;\n    }\n\n    .dataframe thead th {\n        text-align: right;\n    }\n</style>\n<table border=\"1\" class=\"dataframe\">\n  <thead>\n    <tr style=\"text-align: right;\">\n      <th></th>\n      <th>sex</th>\n      <th>height</th>\n    </tr>\n  </thead>\n  <tbody>\n    <tr>\n      <th>0</th>\n      <td>girl</td>\n      <td>169</td>\n    </tr>\n    <tr>\n      <th>1</th>\n      <td>girl</td>\n      <td>170</td>\n    </tr>\n    <tr>\n      <th>2</th>\n      <td>girl</td>\n      <td>162</td>\n    </tr>\n    <tr>\n      <th>3</th>\n      <td>girl</td>\n      <td>154</td>\n    </tr>\n    <tr>\n      <th>4</th>\n      <td>girl</td>\n      <td>183</td>\n    </tr>\n    <tr>\n      <th>5</th>\n      <td>girl</td>\n      <td>173</td>\n    </tr>\n    <tr>\n      <th>6</th>\n      <td>girl</td>\n      <td>169</td>\n    </tr>\n    <tr>\n      <th>7</th>\n      <td>girl</td>\n      <td>167</td>\n    </tr>\n    <tr>\n      <th>8</th>\n      <td>girl</td>\n      <td>170</td>\n    </tr>\n    <tr>\n      <th>9</th>\n      <td>girl</td>\n      <td>185</td>\n    </tr>\n    <tr>\n      <th>10</th>\n      <td>girl</td>\n      <td>162</td>\n    </tr>\n    <tr>\n      <th>11</th>\n      <td>girl</td>\n      <td>175</td>\n    </tr>\n    <tr>\n      <th>12</th>\n      <td>girl</td>\n      <td>168</td>\n    </tr>\n    <tr>\n      <th>13</th>\n      <td>girl</td>\n      <td>151</td>\n    </tr>\n    <tr>\n      <th>14</th>\n      <td>girl</td>\n      <td>181</td>\n    </tr>\n    <tr>\n      <th>15</th>\n      <td>girl</td>\n      <td>170</td>\n    </tr>\n    <tr>\n      <th>16</th>\n      <td>girl</td>\n      <td>182</td>\n    </tr>\n    <tr>\n      <th>17</th>\n      <td>girl</td>\n      <td>156</td>\n    </tr>\n    <tr>\n      <th>18</th>\n      <td>girl</td>\n      <td>159</td>\n    </tr>\n    <tr>\n      <th>19</th>\n      <td>girl</td>\n      <td>160</td>\n    </tr>\n  </tbody>\n</table>\n</div>"
     },
     "metadata": {},
     "execution_count": 25
    }
   ],
   "source": [
    "girl_height = pd.DataFrame([['girl',169],['girl',170],['girl',162],['girl',154],['girl',183],['girl',173],['girl',169],['girl',167],['girl',170],['girl',185],['girl',162],['girl',175],['girl',168],['girl',151],['girl',181],['girl',170],['girl',182],['girl',156],['girl',159],['girl',160]],columns=['sex','height'])\n",
    "girl_height"
   ]
  },
  {
   "cell_type": "code",
   "execution_count": 26,
   "metadata": {},
   "outputs": [
    {
     "output_type": "execute_result",
     "data": {
      "text/plain": [
       "     sex  height\n",
       "0    boy     164\n",
       "1    boy     175\n",
       "2    boy     183\n",
       "3    boy     173\n",
       "4    boy     176\n",
       "5    boy     159\n",
       "6    boy     165\n",
       "7    boy     165\n",
       "8    boy     169\n",
       "9    boy     151\n",
       "10   boy     156\n",
       "11   boy     163\n",
       "12   boy     169\n",
       "13   boy     144\n",
       "14   boy     170\n",
       "15   boy     177\n",
       "16   boy     165\n",
       "17   boy     160\n",
       "18   boy     164\n",
       "19   boy     171\n",
       "20  girl     169\n",
       "21  girl     170\n",
       "22  girl     162\n",
       "23  girl     154\n",
       "24  girl     183\n",
       "25  girl     173\n",
       "26  girl     169\n",
       "27  girl     167\n",
       "28  girl     170\n",
       "29  girl     185\n",
       "30  girl     162\n",
       "31  girl     175\n",
       "32  girl     168\n",
       "33  girl     151\n",
       "34  girl     181\n",
       "35  girl     170\n",
       "36  girl     182\n",
       "37  girl     156\n",
       "38  girl     159\n",
       "39  girl     160"
      ],
      "text/html": "<div>\n<style scoped>\n    .dataframe tbody tr th:only-of-type {\n        vertical-align: middle;\n    }\n\n    .dataframe tbody tr th {\n        vertical-align: top;\n    }\n\n    .dataframe thead th {\n        text-align: right;\n    }\n</style>\n<table border=\"1\" class=\"dataframe\">\n  <thead>\n    <tr style=\"text-align: right;\">\n      <th></th>\n      <th>sex</th>\n      <th>height</th>\n    </tr>\n  </thead>\n  <tbody>\n    <tr>\n      <th>0</th>\n      <td>boy</td>\n      <td>164</td>\n    </tr>\n    <tr>\n      <th>1</th>\n      <td>boy</td>\n      <td>175</td>\n    </tr>\n    <tr>\n      <th>2</th>\n      <td>boy</td>\n      <td>183</td>\n    </tr>\n    <tr>\n      <th>3</th>\n      <td>boy</td>\n      <td>173</td>\n    </tr>\n    <tr>\n      <th>4</th>\n      <td>boy</td>\n      <td>176</td>\n    </tr>\n    <tr>\n      <th>5</th>\n      <td>boy</td>\n      <td>159</td>\n    </tr>\n    <tr>\n      <th>6</th>\n      <td>boy</td>\n      <td>165</td>\n    </tr>\n    <tr>\n      <th>7</th>\n      <td>boy</td>\n      <td>165</td>\n    </tr>\n    <tr>\n      <th>8</th>\n      <td>boy</td>\n      <td>169</td>\n    </tr>\n    <tr>\n      <th>9</th>\n      <td>boy</td>\n      <td>151</td>\n    </tr>\n    <tr>\n      <th>10</th>\n      <td>boy</td>\n      <td>156</td>\n    </tr>\n    <tr>\n      <th>11</th>\n      <td>boy</td>\n      <td>163</td>\n    </tr>\n    <tr>\n      <th>12</th>\n      <td>boy</td>\n      <td>169</td>\n    </tr>\n    <tr>\n      <th>13</th>\n      <td>boy</td>\n      <td>144</td>\n    </tr>\n    <tr>\n      <th>14</th>\n      <td>boy</td>\n      <td>170</td>\n    </tr>\n    <tr>\n      <th>15</th>\n      <td>boy</td>\n      <td>177</td>\n    </tr>\n    <tr>\n      <th>16</th>\n      <td>boy</td>\n      <td>165</td>\n    </tr>\n    <tr>\n      <th>17</th>\n      <td>boy</td>\n      <td>160</td>\n    </tr>\n    <tr>\n      <th>18</th>\n      <td>boy</td>\n      <td>164</td>\n    </tr>\n    <tr>\n      <th>19</th>\n      <td>boy</td>\n      <td>171</td>\n    </tr>\n    <tr>\n      <th>20</th>\n      <td>girl</td>\n      <td>169</td>\n    </tr>\n    <tr>\n      <th>21</th>\n      <td>girl</td>\n      <td>170</td>\n    </tr>\n    <tr>\n      <th>22</th>\n      <td>girl</td>\n      <td>162</td>\n    </tr>\n    <tr>\n      <th>23</th>\n      <td>girl</td>\n      <td>154</td>\n    </tr>\n    <tr>\n      <th>24</th>\n      <td>girl</td>\n      <td>183</td>\n    </tr>\n    <tr>\n      <th>25</th>\n      <td>girl</td>\n      <td>173</td>\n    </tr>\n    <tr>\n      <th>26</th>\n      <td>girl</td>\n      <td>169</td>\n    </tr>\n    <tr>\n      <th>27</th>\n      <td>girl</td>\n      <td>167</td>\n    </tr>\n    <tr>\n      <th>28</th>\n      <td>girl</td>\n      <td>170</td>\n    </tr>\n    <tr>\n      <th>29</th>\n      <td>girl</td>\n      <td>185</td>\n    </tr>\n    <tr>\n      <th>30</th>\n      <td>girl</td>\n      <td>162</td>\n    </tr>\n    <tr>\n      <th>31</th>\n      <td>girl</td>\n      <td>175</td>\n    </tr>\n    <tr>\n      <th>32</th>\n      <td>girl</td>\n      <td>168</td>\n    </tr>\n    <tr>\n      <th>33</th>\n      <td>girl</td>\n      <td>151</td>\n    </tr>\n    <tr>\n      <th>34</th>\n      <td>girl</td>\n      <td>181</td>\n    </tr>\n    <tr>\n      <th>35</th>\n      <td>girl</td>\n      <td>170</td>\n    </tr>\n    <tr>\n      <th>36</th>\n      <td>girl</td>\n      <td>182</td>\n    </tr>\n    <tr>\n      <th>37</th>\n      <td>girl</td>\n      <td>156</td>\n    </tr>\n    <tr>\n      <th>38</th>\n      <td>girl</td>\n      <td>159</td>\n    </tr>\n    <tr>\n      <th>39</th>\n      <td>girl</td>\n      <td>160</td>\n    </tr>\n  </tbody>\n</table>\n</div>"
     },
     "metadata": {},
     "execution_count": 26
    }
   ],
   "source": [
    "height = pd.concat([boy_height,girl_height],axis=0)\n",
    "height.reset_index(drop = True, inplace = True)\n",
    "height"
   ]
  },
  {
   "cell_type": "code",
   "execution_count": 27,
   "metadata": {},
   "outputs": [
    {
     "output_type": "execute_result",
     "data": {
      "text/plain": [
       "      height                           \n",
       "        mean       std median  min  max\n",
       "sex                                    \n",
       "boy   165.95  9.213691    165  144  183\n",
       "girl  168.30  9.766215    169  151  185"
      ],
      "text/html": "<div>\n<style scoped>\n    .dataframe tbody tr th:only-of-type {\n        vertical-align: middle;\n    }\n\n    .dataframe tbody tr th {\n        vertical-align: top;\n    }\n\n    .dataframe thead tr th {\n        text-align: left;\n    }\n\n    .dataframe thead tr:last-of-type th {\n        text-align: right;\n    }\n</style>\n<table border=\"1\" class=\"dataframe\">\n  <thead>\n    <tr>\n      <th></th>\n      <th colspan=\"5\" halign=\"left\">height</th>\n    </tr>\n    <tr>\n      <th></th>\n      <th>mean</th>\n      <th>std</th>\n      <th>median</th>\n      <th>min</th>\n      <th>max</th>\n    </tr>\n    <tr>\n      <th>sex</th>\n      <th></th>\n      <th></th>\n      <th></th>\n      <th></th>\n      <th></th>\n    </tr>\n  </thead>\n  <tbody>\n    <tr>\n      <th>boy</th>\n      <td>165.95</td>\n      <td>9.213691</td>\n      <td>165</td>\n      <td>144</td>\n      <td>183</td>\n    </tr>\n    <tr>\n      <th>girl</th>\n      <td>168.30</td>\n      <td>9.766215</td>\n      <td>169</td>\n      <td>151</td>\n      <td>185</td>\n    </tr>\n  </tbody>\n</table>\n</div>"
     },
     "metadata": {},
     "execution_count": 27
    }
   ],
   "source": [
    "#Q1:試著用今天所教的內容，如何描述這兩組資料的樣態?\n",
    "#暗示:  分別計算男生和女生的統計量\n",
    "#女生平均較高，變異較大\n",
    "height.groupby('sex').agg(['mean','std','median','min','max'])\n"
   ]
  },
  {
   "cell_type": "code",
   "execution_count": 19,
   "metadata": {},
   "outputs": [
    {
     "output_type": "execute_result",
     "data": {
      "text/plain": [
       "height   -2.35\n",
       "dtype: float64"
      ]
     },
     "metadata": {},
     "execution_count": 19
    }
   ],
   "source": [
    "#Q2: 請問男生和女生在平均身高上誰比較高?\n",
    "#女生身高比男生高2.35公分 \n",
    "height[height['sex']=='boy'].mean() - height[height['sex']=='girl'].mean()"
   ]
  },
  {
   "cell_type": "code",
   "execution_count": 32,
   "metadata": {},
   "outputs": [
    {
     "output_type": "execute_result",
     "data": {
      "text/plain": [
       "boy          AxesSubplot(0.1,0.15;0.363636x0.75)\n",
       "girl    AxesSubplot(0.536364,0.15;0.363636x0.75)\n",
       "dtype: object"
      ]
     },
     "metadata": {},
     "execution_count": 32
    },
    {
     "output_type": "display_data",
     "data": {
      "text/plain": "<Figure size 432x288 with 2 Axes>",
      "image/svg+xml": "<?xml version=\"1.0\" encoding=\"utf-8\" standalone=\"no\"?>\r\n<!DOCTYPE svg PUBLIC \"-//W3C//DTD SVG 1.1//EN\"\r\n  \"http://www.w3.org/Graphics/SVG/1.1/DTD/svg11.dtd\">\r\n<!-- Created with matplotlib (https://matplotlib.org/) -->\r\n<svg height=\"262.19625pt\" version=\"1.1\" viewBox=\"0 0 386.0875 262.19625\" width=\"386.0875pt\" xmlns=\"http://www.w3.org/2000/svg\" xmlns:xlink=\"http://www.w3.org/1999/xlink\">\r\n <defs>\r\n  <style type=\"text/css\">\r\n*{stroke-linecap:butt;stroke-linejoin:round;}\r\n  </style>\r\n </defs>\r\n <g id=\"figure_1\">\r\n  <g id=\"patch_1\">\r\n   <path d=\"M 0 262.19625 \r\nL 386.0875 262.19625 \r\nL 386.0875 0 \r\nL 0 0 \r\nz\r\n\" style=\"fill:none;\"/>\r\n  </g>\r\n  <g id=\"axes_1\">\r\n   <g id=\"patch_2\">\r\n    <path d=\"M 33.2875 238.318125 \r\nL 190.378409 238.318125 \r\nL 190.378409 22.318125 \r\nL 33.2875 22.318125 \r\nz\r\n\" style=\"fill:#ffffff;\"/>\r\n   </g>\r\n   <g id=\"matplotlib.axis_1\">\r\n    <g id=\"xtick_1\">\r\n     <g id=\"line2d_1\">\r\n      <path clip-path=\"url(#pa4bc69dc0b)\" d=\"M 111.832955 238.318125 \r\nL 111.832955 22.318125 \r\n\" style=\"fill:none;stroke:#b0b0b0;stroke-linecap:square;stroke-width:0.8;\"/>\r\n     </g>\r\n     <g id=\"line2d_2\">\r\n      <defs>\r\n       <path d=\"M 0 0 \r\nL 0 3.5 \r\n\" id=\"me5178a85f4\" style=\"stroke:#000000;stroke-width:0.8;\"/>\r\n      </defs>\r\n      <g>\r\n       <use style=\"stroke:#000000;stroke-width:0.8;\" x=\"111.832955\" xlink:href=\"#me5178a85f4\" y=\"238.318125\"/>\r\n      </g>\r\n     </g>\r\n     <g id=\"text_1\">\r\n      <!-- height -->\r\n      <defs>\r\n       <path d=\"M 54.890625 33.015625 \r\nL 54.890625 0 \r\nL 45.90625 0 \r\nL 45.90625 32.71875 \r\nQ 45.90625 40.484375 42.875 44.328125 \r\nQ 39.84375 48.1875 33.796875 48.1875 \r\nQ 26.515625 48.1875 22.3125 43.546875 \r\nQ 18.109375 38.921875 18.109375 30.90625 \r\nL 18.109375 0 \r\nL 9.078125 0 \r\nL 9.078125 75.984375 \r\nL 18.109375 75.984375 \r\nL 18.109375 46.1875 \r\nQ 21.34375 51.125 25.703125 53.5625 \r\nQ 30.078125 56 35.796875 56 \r\nQ 45.21875 56 50.046875 50.171875 \r\nQ 54.890625 44.34375 54.890625 33.015625 \r\nz\r\n\" id=\"DejaVuSans-104\"/>\r\n       <path d=\"M 56.203125 29.59375 \r\nL 56.203125 25.203125 \r\nL 14.890625 25.203125 \r\nQ 15.484375 15.921875 20.484375 11.0625 \r\nQ 25.484375 6.203125 34.421875 6.203125 \r\nQ 39.59375 6.203125 44.453125 7.46875 \r\nQ 49.3125 8.734375 54.109375 11.28125 \r\nL 54.109375 2.78125 \r\nQ 49.265625 0.734375 44.1875 -0.34375 \r\nQ 39.109375 -1.421875 33.890625 -1.421875 \r\nQ 20.796875 -1.421875 13.15625 6.1875 \r\nQ 5.515625 13.8125 5.515625 26.8125 \r\nQ 5.515625 40.234375 12.765625 48.109375 \r\nQ 20.015625 56 32.328125 56 \r\nQ 43.359375 56 49.78125 48.890625 \r\nQ 56.203125 41.796875 56.203125 29.59375 \r\nz\r\nM 47.21875 32.234375 \r\nQ 47.125 39.59375 43.09375 43.984375 \r\nQ 39.0625 48.390625 32.421875 48.390625 \r\nQ 24.90625 48.390625 20.390625 44.140625 \r\nQ 15.875 39.890625 15.1875 32.171875 \r\nz\r\n\" id=\"DejaVuSans-101\"/>\r\n       <path d=\"M 9.421875 54.6875 \r\nL 18.40625 54.6875 \r\nL 18.40625 0 \r\nL 9.421875 0 \r\nz\r\nM 9.421875 75.984375 \r\nL 18.40625 75.984375 \r\nL 18.40625 64.59375 \r\nL 9.421875 64.59375 \r\nz\r\n\" id=\"DejaVuSans-105\"/>\r\n       <path d=\"M 45.40625 27.984375 \r\nQ 45.40625 37.75 41.375 43.109375 \r\nQ 37.359375 48.484375 30.078125 48.484375 \r\nQ 22.859375 48.484375 18.828125 43.109375 \r\nQ 14.796875 37.75 14.796875 27.984375 \r\nQ 14.796875 18.265625 18.828125 12.890625 \r\nQ 22.859375 7.515625 30.078125 7.515625 \r\nQ 37.359375 7.515625 41.375 12.890625 \r\nQ 45.40625 18.265625 45.40625 27.984375 \r\nz\r\nM 54.390625 6.78125 \r\nQ 54.390625 -7.171875 48.1875 -13.984375 \r\nQ 42 -20.796875 29.203125 -20.796875 \r\nQ 24.46875 -20.796875 20.265625 -20.09375 \r\nQ 16.0625 -19.390625 12.109375 -17.921875 \r\nL 12.109375 -9.1875 \r\nQ 16.0625 -11.328125 19.921875 -12.34375 \r\nQ 23.78125 -13.375 27.78125 -13.375 \r\nQ 36.625 -13.375 41.015625 -8.765625 \r\nQ 45.40625 -4.15625 45.40625 5.171875 \r\nL 45.40625 9.625 \r\nQ 42.625 4.78125 38.28125 2.390625 \r\nQ 33.9375 0 27.875 0 \r\nQ 17.828125 0 11.671875 7.65625 \r\nQ 5.515625 15.328125 5.515625 27.984375 \r\nQ 5.515625 40.671875 11.671875 48.328125 \r\nQ 17.828125 56 27.875 56 \r\nQ 33.9375 56 38.28125 53.609375 \r\nQ 42.625 51.21875 45.40625 46.390625 \r\nL 45.40625 54.6875 \r\nL 54.390625 54.6875 \r\nz\r\n\" id=\"DejaVuSans-103\"/>\r\n       <path d=\"M 18.3125 70.21875 \r\nL 18.3125 54.6875 \r\nL 36.8125 54.6875 \r\nL 36.8125 47.703125 \r\nL 18.3125 47.703125 \r\nL 18.3125 18.015625 \r\nQ 18.3125 11.328125 20.140625 9.421875 \r\nQ 21.96875 7.515625 27.59375 7.515625 \r\nL 36.8125 7.515625 \r\nL 36.8125 0 \r\nL 27.59375 0 \r\nQ 17.1875 0 13.234375 3.875 \r\nQ 9.28125 7.765625 9.28125 18.015625 \r\nL 9.28125 47.703125 \r\nL 2.6875 47.703125 \r\nL 2.6875 54.6875 \r\nL 9.28125 54.6875 \r\nL 9.28125 70.21875 \r\nz\r\n\" id=\"DejaVuSans-116\"/>\r\n      </defs>\r\n      <g transform=\"translate(95.895455 252.916563)scale(0.1 -0.1)\">\r\n       <use xlink:href=\"#DejaVuSans-104\"/>\r\n       <use x=\"63.378906\" xlink:href=\"#DejaVuSans-101\"/>\r\n       <use x=\"124.902344\" xlink:href=\"#DejaVuSans-105\"/>\r\n       <use x=\"152.685547\" xlink:href=\"#DejaVuSans-103\"/>\r\n       <use x=\"216.162109\" xlink:href=\"#DejaVuSans-104\"/>\r\n       <use x=\"279.541016\" xlink:href=\"#DejaVuSans-116\"/>\r\n      </g>\r\n     </g>\r\n    </g>\r\n   </g>\r\n   <g id=\"matplotlib.axis_2\">\r\n    <g id=\"ytick_1\">\r\n     <g id=\"line2d_3\">\r\n      <path clip-path=\"url(#pa4bc69dc0b)\" d=\"M 33.2875 199.763801 \r\nL 190.378409 199.763801 \r\n\" style=\"fill:none;stroke:#b0b0b0;stroke-linecap:square;stroke-width:0.8;\"/>\r\n     </g>\r\n     <g id=\"line2d_4\">\r\n      <defs>\r\n       <path d=\"M 0 0 \r\nL -3.5 0 \r\n\" id=\"mf4bbc817e8\" style=\"stroke:#000000;stroke-width:0.8;\"/>\r\n      </defs>\r\n      <g>\r\n       <use style=\"stroke:#000000;stroke-width:0.8;\" x=\"33.2875\" xlink:href=\"#mf4bbc817e8\" y=\"199.763801\"/>\r\n      </g>\r\n     </g>\r\n     <g id=\"text_2\">\r\n      <!-- 150 -->\r\n      <defs>\r\n       <path d=\"M 12.40625 8.296875 \r\nL 28.515625 8.296875 \r\nL 28.515625 63.921875 \r\nL 10.984375 60.40625 \r\nL 10.984375 69.390625 \r\nL 28.421875 72.90625 \r\nL 38.28125 72.90625 \r\nL 38.28125 8.296875 \r\nL 54.390625 8.296875 \r\nL 54.390625 0 \r\nL 12.40625 0 \r\nz\r\n\" id=\"DejaVuSans-49\"/>\r\n       <path d=\"M 10.796875 72.90625 \r\nL 49.515625 72.90625 \r\nL 49.515625 64.59375 \r\nL 19.828125 64.59375 \r\nL 19.828125 46.734375 \r\nQ 21.96875 47.46875 24.109375 47.828125 \r\nQ 26.265625 48.1875 28.421875 48.1875 \r\nQ 40.625 48.1875 47.75 41.5 \r\nQ 54.890625 34.8125 54.890625 23.390625 \r\nQ 54.890625 11.625 47.5625 5.09375 \r\nQ 40.234375 -1.421875 26.90625 -1.421875 \r\nQ 22.3125 -1.421875 17.546875 -0.640625 \r\nQ 12.796875 0.140625 7.71875 1.703125 \r\nL 7.71875 11.625 \r\nQ 12.109375 9.234375 16.796875 8.0625 \r\nQ 21.484375 6.890625 26.703125 6.890625 \r\nQ 35.15625 6.890625 40.078125 11.328125 \r\nQ 45.015625 15.765625 45.015625 23.390625 \r\nQ 45.015625 31 40.078125 35.4375 \r\nQ 35.15625 39.890625 26.703125 39.890625 \r\nQ 22.75 39.890625 18.8125 39.015625 \r\nQ 14.890625 38.140625 10.796875 36.28125 \r\nz\r\n\" id=\"DejaVuSans-53\"/>\r\n       <path d=\"M 31.78125 66.40625 \r\nQ 24.171875 66.40625 20.328125 58.90625 \r\nQ 16.5 51.421875 16.5 36.375 \r\nQ 16.5 21.390625 20.328125 13.890625 \r\nQ 24.171875 6.390625 31.78125 6.390625 \r\nQ 39.453125 6.390625 43.28125 13.890625 \r\nQ 47.125 21.390625 47.125 36.375 \r\nQ 47.125 51.421875 43.28125 58.90625 \r\nQ 39.453125 66.40625 31.78125 66.40625 \r\nz\r\nM 31.78125 74.21875 \r\nQ 44.046875 74.21875 50.515625 64.515625 \r\nQ 56.984375 54.828125 56.984375 36.375 \r\nQ 56.984375 17.96875 50.515625 8.265625 \r\nQ 44.046875 -1.421875 31.78125 -1.421875 \r\nQ 19.53125 -1.421875 13.0625 8.265625 \r\nQ 6.59375 17.96875 6.59375 36.375 \r\nQ 6.59375 54.828125 13.0625 64.515625 \r\nQ 19.53125 74.21875 31.78125 74.21875 \r\nz\r\n\" id=\"DejaVuSans-48\"/>\r\n      </defs>\r\n      <g transform=\"translate(7.2 203.56302)scale(0.1 -0.1)\">\r\n       <use xlink:href=\"#DejaVuSans-49\"/>\r\n       <use x=\"63.623047\" xlink:href=\"#DejaVuSans-53\"/>\r\n       <use x=\"127.246094\" xlink:href=\"#DejaVuSans-48\"/>\r\n      </g>\r\n     </g>\r\n    </g>\r\n    <g id=\"ytick_2\">\r\n     <g id=\"line2d_5\">\r\n      <path clip-path=\"url(#pa4bc69dc0b)\" d=\"M 33.2875 151.870231 \r\nL 190.378409 151.870231 \r\n\" style=\"fill:none;stroke:#b0b0b0;stroke-linecap:square;stroke-width:0.8;\"/>\r\n     </g>\r\n     <g id=\"line2d_6\">\r\n      <g>\r\n       <use style=\"stroke:#000000;stroke-width:0.8;\" x=\"33.2875\" xlink:href=\"#mf4bbc817e8\" y=\"151.870231\"/>\r\n      </g>\r\n     </g>\r\n     <g id=\"text_3\">\r\n      <!-- 160 -->\r\n      <defs>\r\n       <path d=\"M 33.015625 40.375 \r\nQ 26.375 40.375 22.484375 35.828125 \r\nQ 18.609375 31.296875 18.609375 23.390625 \r\nQ 18.609375 15.53125 22.484375 10.953125 \r\nQ 26.375 6.390625 33.015625 6.390625 \r\nQ 39.65625 6.390625 43.53125 10.953125 \r\nQ 47.40625 15.53125 47.40625 23.390625 \r\nQ 47.40625 31.296875 43.53125 35.828125 \r\nQ 39.65625 40.375 33.015625 40.375 \r\nz\r\nM 52.59375 71.296875 \r\nL 52.59375 62.3125 \r\nQ 48.875 64.0625 45.09375 64.984375 \r\nQ 41.3125 65.921875 37.59375 65.921875 \r\nQ 27.828125 65.921875 22.671875 59.328125 \r\nQ 17.53125 52.734375 16.796875 39.40625 \r\nQ 19.671875 43.65625 24.015625 45.921875 \r\nQ 28.375 48.1875 33.59375 48.1875 \r\nQ 44.578125 48.1875 50.953125 41.515625 \r\nQ 57.328125 34.859375 57.328125 23.390625 \r\nQ 57.328125 12.15625 50.6875 5.359375 \r\nQ 44.046875 -1.421875 33.015625 -1.421875 \r\nQ 20.359375 -1.421875 13.671875 8.265625 \r\nQ 6.984375 17.96875 6.984375 36.375 \r\nQ 6.984375 53.65625 15.1875 63.9375 \r\nQ 23.390625 74.21875 37.203125 74.21875 \r\nQ 40.921875 74.21875 44.703125 73.484375 \r\nQ 48.484375 72.75 52.59375 71.296875 \r\nz\r\n\" id=\"DejaVuSans-54\"/>\r\n      </defs>\r\n      <g transform=\"translate(7.2 155.66945)scale(0.1 -0.1)\">\r\n       <use xlink:href=\"#DejaVuSans-49\"/>\r\n       <use x=\"63.623047\" xlink:href=\"#DejaVuSans-54\"/>\r\n       <use x=\"127.246094\" xlink:href=\"#DejaVuSans-48\"/>\r\n      </g>\r\n     </g>\r\n    </g>\r\n    <g id=\"ytick_3\">\r\n     <g id=\"line2d_7\">\r\n      <path clip-path=\"url(#pa4bc69dc0b)\" d=\"M 33.2875 103.976662 \r\nL 190.378409 103.976662 \r\n\" style=\"fill:none;stroke:#b0b0b0;stroke-linecap:square;stroke-width:0.8;\"/>\r\n     </g>\r\n     <g id=\"line2d_8\">\r\n      <g>\r\n       <use style=\"stroke:#000000;stroke-width:0.8;\" x=\"33.2875\" xlink:href=\"#mf4bbc817e8\" y=\"103.976662\"/>\r\n      </g>\r\n     </g>\r\n     <g id=\"text_4\">\r\n      <!-- 170 -->\r\n      <defs>\r\n       <path d=\"M 8.203125 72.90625 \r\nL 55.078125 72.90625 \r\nL 55.078125 68.703125 \r\nL 28.609375 0 \r\nL 18.3125 0 \r\nL 43.21875 64.59375 \r\nL 8.203125 64.59375 \r\nz\r\n\" id=\"DejaVuSans-55\"/>\r\n      </defs>\r\n      <g transform=\"translate(7.2 107.77588)scale(0.1 -0.1)\">\r\n       <use xlink:href=\"#DejaVuSans-49\"/>\r\n       <use x=\"63.623047\" xlink:href=\"#DejaVuSans-55\"/>\r\n       <use x=\"127.246094\" xlink:href=\"#DejaVuSans-48\"/>\r\n      </g>\r\n     </g>\r\n    </g>\r\n    <g id=\"ytick_4\">\r\n     <g id=\"line2d_9\">\r\n      <path clip-path=\"url(#pa4bc69dc0b)\" d=\"M 33.2875 56.083092 \r\nL 190.378409 56.083092 \r\n\" style=\"fill:none;stroke:#b0b0b0;stroke-linecap:square;stroke-width:0.8;\"/>\r\n     </g>\r\n     <g id=\"line2d_10\">\r\n      <g>\r\n       <use style=\"stroke:#000000;stroke-width:0.8;\" x=\"33.2875\" xlink:href=\"#mf4bbc817e8\" y=\"56.083092\"/>\r\n      </g>\r\n     </g>\r\n     <g id=\"text_5\">\r\n      <!-- 180 -->\r\n      <defs>\r\n       <path d=\"M 31.78125 34.625 \r\nQ 24.75 34.625 20.71875 30.859375 \r\nQ 16.703125 27.09375 16.703125 20.515625 \r\nQ 16.703125 13.921875 20.71875 10.15625 \r\nQ 24.75 6.390625 31.78125 6.390625 \r\nQ 38.8125 6.390625 42.859375 10.171875 \r\nQ 46.921875 13.96875 46.921875 20.515625 \r\nQ 46.921875 27.09375 42.890625 30.859375 \r\nQ 38.875 34.625 31.78125 34.625 \r\nz\r\nM 21.921875 38.8125 \r\nQ 15.578125 40.375 12.03125 44.71875 \r\nQ 8.5 49.078125 8.5 55.328125 \r\nQ 8.5 64.0625 14.71875 69.140625 \r\nQ 20.953125 74.21875 31.78125 74.21875 \r\nQ 42.671875 74.21875 48.875 69.140625 \r\nQ 55.078125 64.0625 55.078125 55.328125 \r\nQ 55.078125 49.078125 51.53125 44.71875 \r\nQ 48 40.375 41.703125 38.8125 \r\nQ 48.828125 37.15625 52.796875 32.3125 \r\nQ 56.78125 27.484375 56.78125 20.515625 \r\nQ 56.78125 9.90625 50.3125 4.234375 \r\nQ 43.84375 -1.421875 31.78125 -1.421875 \r\nQ 19.734375 -1.421875 13.25 4.234375 \r\nQ 6.78125 9.90625 6.78125 20.515625 \r\nQ 6.78125 27.484375 10.78125 32.3125 \r\nQ 14.796875 37.15625 21.921875 38.8125 \r\nz\r\nM 18.3125 54.390625 \r\nQ 18.3125 48.734375 21.84375 45.5625 \r\nQ 25.390625 42.390625 31.78125 42.390625 \r\nQ 38.140625 42.390625 41.71875 45.5625 \r\nQ 45.3125 48.734375 45.3125 54.390625 \r\nQ 45.3125 60.0625 41.71875 63.234375 \r\nQ 38.140625 66.40625 31.78125 66.40625 \r\nQ 25.390625 66.40625 21.84375 63.234375 \r\nQ 18.3125 60.0625 18.3125 54.390625 \r\nz\r\n\" id=\"DejaVuSans-56\"/>\r\n      </defs>\r\n      <g transform=\"translate(7.2 59.88231)scale(0.1 -0.1)\">\r\n       <use xlink:href=\"#DejaVuSans-49\"/>\r\n       <use x=\"63.623047\" xlink:href=\"#DejaVuSans-56\"/>\r\n       <use x=\"127.246094\" xlink:href=\"#DejaVuSans-48\"/>\r\n      </g>\r\n     </g>\r\n    </g>\r\n   </g>\r\n   <g id=\"line2d_11\">\r\n    <path clip-path=\"url(#pa4bc69dc0b)\" d=\"M 100.051136 141.094178 \r\nL 123.614773 141.094178 \r\nL 123.614773 96.792626 \r\nL 100.051136 96.792626 \r\nL 100.051136 141.094178 \r\n\" style=\"fill:none;stroke:#1f77b4;stroke-linecap:square;\"/>\r\n   </g>\r\n   <g id=\"line2d_12\">\r\n    <path clip-path=\"url(#pa4bc69dc0b)\" d=\"M 111.832955 141.094178 \r\nL 111.832955 194.974444 \r\n\" style=\"fill:none;stroke:#1f77b4;stroke-linecap:square;\"/>\r\n   </g>\r\n   <g id=\"line2d_13\">\r\n    <path clip-path=\"url(#pa4bc69dc0b)\" d=\"M 111.832955 96.792626 \r\nL 111.832955 41.715021 \r\n\" style=\"fill:none;stroke:#1f77b4;stroke-linecap:square;\"/>\r\n   </g>\r\n   <g id=\"line2d_14\">\r\n    <path clip-path=\"url(#pa4bc69dc0b)\" d=\"M 105.942045 194.974444 \r\nL 117.723864 194.974444 \r\n\" style=\"fill:none;stroke:#000000;stroke-linecap:square;\"/>\r\n   </g>\r\n   <g id=\"line2d_15\">\r\n    <path clip-path=\"url(#pa4bc69dc0b)\" d=\"M 105.942045 41.715021 \r\nL 117.723864 41.715021 \r\n\" style=\"fill:none;stroke:#000000;stroke-linecap:square;\"/>\r\n   </g>\r\n   <g id=\"line2d_16\">\r\n    <defs>\r\n     <path d=\"M 0 3 \r\nC 0.795609 3 1.55874 2.683901 2.12132 2.12132 \r\nC 2.683901 1.55874 3 0.795609 3 0 \r\nC 3 -0.795609 2.683901 -1.55874 2.12132 -2.12132 \r\nC 1.55874 -2.683901 0.795609 -3 0 -3 \r\nC -0.795609 -3 -1.55874 -2.683901 -2.12132 -2.12132 \r\nC -2.683901 -1.55874 -3 -0.795609 -3 0 \r\nC -3 0.795609 -2.683901 1.55874 -2.12132 2.12132 \r\nC -1.55874 2.683901 -0.795609 3 0 3 \r\nz\r\n\" id=\"m8ad0dddb47\" style=\"stroke:#000000;\"/>\r\n    </defs>\r\n    <g clip-path=\"url(#pa4bc69dc0b)\">\r\n     <use style=\"fill-opacity:0;stroke:#000000;\" x=\"111.832955\" xlink:href=\"#m8ad0dddb47\" y=\"228.499943\"/>\r\n    </g>\r\n   </g>\r\n   <g id=\"line2d_17\">\r\n    <path clip-path=\"url(#pa4bc69dc0b)\" d=\"M 100.051136 127.923447 \r\nL 123.614773 127.923447 \r\n\" style=\"fill:none;stroke:#2ca02c;stroke-linecap:square;\"/>\r\n   </g>\r\n   <g id=\"patch_3\">\r\n    <path d=\"M 33.2875 238.318125 \r\nL 33.2875 22.318125 \r\n\" style=\"fill:none;stroke:#000000;stroke-linecap:square;stroke-linejoin:miter;stroke-width:0.8;\"/>\r\n   </g>\r\n   <g id=\"patch_4\">\r\n    <path d=\"M 190.378409 238.318125 \r\nL 190.378409 22.318125 \r\n\" style=\"fill:none;stroke:#000000;stroke-linecap:square;stroke-linejoin:miter;stroke-width:0.8;\"/>\r\n   </g>\r\n   <g id=\"patch_5\">\r\n    <path d=\"M 33.2875 238.318125 \r\nL 190.378409 238.318125 \r\n\" style=\"fill:none;stroke:#000000;stroke-linecap:square;stroke-linejoin:miter;stroke-width:0.8;\"/>\r\n   </g>\r\n   <g id=\"patch_6\">\r\n    <path d=\"M 33.2875 22.318125 \r\nL 190.378409 22.318125 \r\n\" style=\"fill:none;stroke:#000000;stroke-linecap:square;stroke-linejoin:miter;stroke-width:0.8;\"/>\r\n   </g>\r\n   <g id=\"text_6\">\r\n    <!-- boy -->\r\n    <defs>\r\n     <path d=\"M 48.6875 27.296875 \r\nQ 48.6875 37.203125 44.609375 42.84375 \r\nQ 40.53125 48.484375 33.40625 48.484375 \r\nQ 26.265625 48.484375 22.1875 42.84375 \r\nQ 18.109375 37.203125 18.109375 27.296875 \r\nQ 18.109375 17.390625 22.1875 11.75 \r\nQ 26.265625 6.109375 33.40625 6.109375 \r\nQ 40.53125 6.109375 44.609375 11.75 \r\nQ 48.6875 17.390625 48.6875 27.296875 \r\nz\r\nM 18.109375 46.390625 \r\nQ 20.953125 51.265625 25.265625 53.625 \r\nQ 29.59375 56 35.59375 56 \r\nQ 45.5625 56 51.78125 48.09375 \r\nQ 58.015625 40.1875 58.015625 27.296875 \r\nQ 58.015625 14.40625 51.78125 6.484375 \r\nQ 45.5625 -1.421875 35.59375 -1.421875 \r\nQ 29.59375 -1.421875 25.265625 0.953125 \r\nQ 20.953125 3.328125 18.109375 8.203125 \r\nL 18.109375 0 \r\nL 9.078125 0 \r\nL 9.078125 75.984375 \r\nL 18.109375 75.984375 \r\nz\r\n\" id=\"DejaVuSans-98\"/>\r\n     <path d=\"M 30.609375 48.390625 \r\nQ 23.390625 48.390625 19.1875 42.75 \r\nQ 14.984375 37.109375 14.984375 27.296875 \r\nQ 14.984375 17.484375 19.15625 11.84375 \r\nQ 23.34375 6.203125 30.609375 6.203125 \r\nQ 37.796875 6.203125 41.984375 11.859375 \r\nQ 46.1875 17.53125 46.1875 27.296875 \r\nQ 46.1875 37.015625 41.984375 42.703125 \r\nQ 37.796875 48.390625 30.609375 48.390625 \r\nz\r\nM 30.609375 56 \r\nQ 42.328125 56 49.015625 48.375 \r\nQ 55.71875 40.765625 55.71875 27.296875 \r\nQ 55.71875 13.875 49.015625 6.21875 \r\nQ 42.328125 -1.421875 30.609375 -1.421875 \r\nQ 18.84375 -1.421875 12.171875 6.21875 \r\nQ 5.515625 13.875 5.515625 27.296875 \r\nQ 5.515625 40.765625 12.171875 48.375 \r\nQ 18.84375 56 30.609375 56 \r\nz\r\n\" id=\"DejaVuSans-111\"/>\r\n     <path d=\"M 32.171875 -5.078125 \r\nQ 28.375 -14.84375 24.75 -17.8125 \r\nQ 21.140625 -20.796875 15.09375 -20.796875 \r\nL 7.90625 -20.796875 \r\nL 7.90625 -13.28125 \r\nL 13.1875 -13.28125 \r\nQ 16.890625 -13.28125 18.9375 -11.515625 \r\nQ 21 -9.765625 23.484375 -3.21875 \r\nL 25.09375 0.875 \r\nL 2.984375 54.6875 \r\nL 12.5 54.6875 \r\nL 29.59375 11.921875 \r\nL 46.6875 54.6875 \r\nL 56.203125 54.6875 \r\nz\r\n\" id=\"DejaVuSans-121\"/>\r\n    </defs>\r\n    <g transform=\"translate(100.801392 16.318125)scale(0.12 -0.12)\">\r\n     <use xlink:href=\"#DejaVuSans-98\"/>\r\n     <use x=\"63.476562\" xlink:href=\"#DejaVuSans-111\"/>\r\n     <use x=\"124.658203\" xlink:href=\"#DejaVuSans-121\"/>\r\n    </g>\r\n   </g>\r\n  </g>\r\n  <g id=\"axes_2\">\r\n   <g id=\"patch_7\">\r\n    <path d=\"M 221.796591 238.318125 \r\nL 378.8875 238.318125 \r\nL 378.8875 22.318125 \r\nL 221.796591 22.318125 \r\nz\r\n\" style=\"fill:#ffffff;\"/>\r\n   </g>\r\n   <g id=\"matplotlib.axis_3\">\r\n    <g id=\"xtick_2\">\r\n     <g id=\"line2d_18\">\r\n      <path clip-path=\"url(#pf7689fcb85)\" d=\"M 300.342045 238.318125 \r\nL 300.342045 22.318125 \r\n\" style=\"fill:none;stroke:#b0b0b0;stroke-linecap:square;stroke-width:0.8;\"/>\r\n     </g>\r\n     <g id=\"line2d_19\">\r\n      <g>\r\n       <use style=\"stroke:#000000;stroke-width:0.8;\" x=\"300.342045\" xlink:href=\"#me5178a85f4\" y=\"238.318125\"/>\r\n      </g>\r\n     </g>\r\n     <g id=\"text_7\">\r\n      <!-- height -->\r\n      <g transform=\"translate(284.404545 252.916563)scale(0.1 -0.1)\">\r\n       <use xlink:href=\"#DejaVuSans-104\"/>\r\n       <use x=\"63.378906\" xlink:href=\"#DejaVuSans-101\"/>\r\n       <use x=\"124.902344\" xlink:href=\"#DejaVuSans-105\"/>\r\n       <use x=\"152.685547\" xlink:href=\"#DejaVuSans-103\"/>\r\n       <use x=\"216.162109\" xlink:href=\"#DejaVuSans-104\"/>\r\n       <use x=\"279.541016\" xlink:href=\"#DejaVuSans-116\"/>\r\n      </g>\r\n     </g>\r\n    </g>\r\n   </g>\r\n   <g id=\"matplotlib.axis_4\">\r\n    <g id=\"ytick_5\">\r\n     <g id=\"line2d_20\">\r\n      <path clip-path=\"url(#pf7689fcb85)\" d=\"M 221.796591 199.763801 \r\nL 378.8875 199.763801 \r\n\" style=\"fill:none;stroke:#b0b0b0;stroke-linecap:square;stroke-width:0.8;\"/>\r\n     </g>\r\n     <g id=\"line2d_21\">\r\n      <g>\r\n       <use style=\"stroke:#000000;stroke-width:0.8;\" x=\"221.796591\" xlink:href=\"#mf4bbc817e8\" y=\"199.763801\"/>\r\n      </g>\r\n     </g>\r\n    </g>\r\n    <g id=\"ytick_6\">\r\n     <g id=\"line2d_22\">\r\n      <path clip-path=\"url(#pf7689fcb85)\" d=\"M 221.796591 151.870231 \r\nL 378.8875 151.870231 \r\n\" style=\"fill:none;stroke:#b0b0b0;stroke-linecap:square;stroke-width:0.8;\"/>\r\n     </g>\r\n     <g id=\"line2d_23\">\r\n      <g>\r\n       <use style=\"stroke:#000000;stroke-width:0.8;\" x=\"221.796591\" xlink:href=\"#mf4bbc817e8\" y=\"151.870231\"/>\r\n      </g>\r\n     </g>\r\n    </g>\r\n    <g id=\"ytick_7\">\r\n     <g id=\"line2d_24\">\r\n      <path clip-path=\"url(#pf7689fcb85)\" d=\"M 221.796591 103.976662 \r\nL 378.8875 103.976662 \r\n\" style=\"fill:none;stroke:#b0b0b0;stroke-linecap:square;stroke-width:0.8;\"/>\r\n     </g>\r\n     <g id=\"line2d_25\">\r\n      <g>\r\n       <use style=\"stroke:#000000;stroke-width:0.8;\" x=\"221.796591\" xlink:href=\"#mf4bbc817e8\" y=\"103.976662\"/>\r\n      </g>\r\n     </g>\r\n    </g>\r\n    <g id=\"ytick_8\">\r\n     <g id=\"line2d_26\">\r\n      <path clip-path=\"url(#pf7689fcb85)\" d=\"M 221.796591 56.083092 \r\nL 378.8875 56.083092 \r\n\" style=\"fill:none;stroke:#b0b0b0;stroke-linecap:square;stroke-width:0.8;\"/>\r\n     </g>\r\n     <g id=\"line2d_27\">\r\n      <g>\r\n       <use style=\"stroke:#000000;stroke-width:0.8;\" x=\"221.796591\" xlink:href=\"#mf4bbc817e8\" y=\"56.083092\"/>\r\n      </g>\r\n     </g>\r\n    </g>\r\n   </g>\r\n   <g id=\"line2d_28\">\r\n    <path clip-path=\"url(#pf7689fcb85)\" d=\"M 288.560227 144.686196 \r\nL 312.123864 144.686196 \r\nL 312.123864 87.213912 \r\nL 288.560227 87.213912 \r\nL 288.560227 144.686196 \r\n\" style=\"fill:none;stroke:#1f77b4;stroke-linecap:square;\"/>\r\n   </g>\r\n   <g id=\"line2d_29\">\r\n    <path clip-path=\"url(#pf7689fcb85)\" d=\"M 300.342045 144.686196 \r\nL 300.342045 194.974444 \r\n\" style=\"fill:none;stroke:#1f77b4;stroke-linecap:square;\"/>\r\n   </g>\r\n   <g id=\"line2d_30\">\r\n    <path clip-path=\"url(#pf7689fcb85)\" d=\"M 300.342045 87.213912 \r\nL 300.342045 32.136307 \r\n\" style=\"fill:none;stroke:#1f77b4;stroke-linecap:square;\"/>\r\n   </g>\r\n   <g id=\"line2d_31\">\r\n    <path clip-path=\"url(#pf7689fcb85)\" d=\"M 294.451136 194.974444 \r\nL 306.232955 194.974444 \r\n\" style=\"fill:none;stroke:#000000;stroke-linecap:square;\"/>\r\n   </g>\r\n   <g id=\"line2d_32\">\r\n    <path clip-path=\"url(#pf7689fcb85)\" d=\"M 294.451136 32.136307 \r\nL 306.232955 32.136307 \r\n\" style=\"fill:none;stroke:#000000;stroke-linecap:square;\"/>\r\n   </g>\r\n   <g id=\"line2d_33\"/>\r\n   <g id=\"line2d_34\">\r\n    <path clip-path=\"url(#pf7689fcb85)\" d=\"M 288.560227 108.766019 \r\nL 312.123864 108.766019 \r\n\" style=\"fill:none;stroke:#2ca02c;stroke-linecap:square;\"/>\r\n   </g>\r\n   <g id=\"patch_8\">\r\n    <path d=\"M 221.796591 238.318125 \r\nL 221.796591 22.318125 \r\n\" style=\"fill:none;stroke:#000000;stroke-linecap:square;stroke-linejoin:miter;stroke-width:0.8;\"/>\r\n   </g>\r\n   <g id=\"patch_9\">\r\n    <path d=\"M 378.8875 238.318125 \r\nL 378.8875 22.318125 \r\n\" style=\"fill:none;stroke:#000000;stroke-linecap:square;stroke-linejoin:miter;stroke-width:0.8;\"/>\r\n   </g>\r\n   <g id=\"patch_10\">\r\n    <path d=\"M 221.796591 238.318125 \r\nL 378.8875 238.318125 \r\n\" style=\"fill:none;stroke:#000000;stroke-linecap:square;stroke-linejoin:miter;stroke-width:0.8;\"/>\r\n   </g>\r\n   <g id=\"patch_11\">\r\n    <path d=\"M 221.796591 22.318125 \r\nL 378.8875 22.318125 \r\n\" style=\"fill:none;stroke:#000000;stroke-linecap:square;stroke-linejoin:miter;stroke-width:0.8;\"/>\r\n   </g>\r\n   <g id=\"text_8\">\r\n    <!-- girl -->\r\n    <defs>\r\n     <path d=\"M 41.109375 46.296875 \r\nQ 39.59375 47.171875 37.8125 47.578125 \r\nQ 36.03125 48 33.890625 48 \r\nQ 26.265625 48 22.1875 43.046875 \r\nQ 18.109375 38.09375 18.109375 28.8125 \r\nL 18.109375 0 \r\nL 9.078125 0 \r\nL 9.078125 54.6875 \r\nL 18.109375 54.6875 \r\nL 18.109375 46.1875 \r\nQ 20.953125 51.171875 25.484375 53.578125 \r\nQ 30.03125 56 36.53125 56 \r\nQ 37.453125 56 38.578125 55.875 \r\nQ 39.703125 55.765625 41.0625 55.515625 \r\nz\r\n\" id=\"DejaVuSans-114\"/>\r\n     <path d=\"M 9.421875 75.984375 \r\nL 18.40625 75.984375 \r\nL 18.40625 0 \r\nL 9.421875 0 \r\nz\r\n\" id=\"DejaVuSans-108\"/>\r\n    </defs>\r\n    <g transform=\"translate(290.73267 16.318125)scale(0.12 -0.12)\">\r\n     <use xlink:href=\"#DejaVuSans-103\"/>\r\n     <use x=\"63.476562\" xlink:href=\"#DejaVuSans-105\"/>\r\n     <use x=\"91.259766\" xlink:href=\"#DejaVuSans-114\"/>\r\n     <use x=\"132.373047\" xlink:href=\"#DejaVuSans-108\"/>\r\n    </g>\r\n   </g>\r\n  </g>\r\n </g>\r\n <defs>\r\n  <clipPath id=\"pa4bc69dc0b\">\r\n   <rect height=\"216\" width=\"157.090909\" x=\"33.2875\" y=\"22.318125\"/>\r\n  </clipPath>\r\n  <clipPath id=\"pf7689fcb85\">\r\n   <rect height=\"216\" width=\"157.090909\" x=\"221.796591\" y=\"22.318125\"/>\r\n  </clipPath>\r\n </defs>\r\n</svg>\r\n",
      "image/png": "[encoded data removed]"
     },
     "metadata": {
      "needs_background": "light"
     }
    }
   ],
   "source": [
    "#Q3:請問第二題的答案和日常生活中觀察的一致嗎? 如果不一致，你覺得原因可能為何? \n",
    "#因為此次抽樣的結果女生的變異較大，中位數較大，拉高平均值，較不符合日常生活觀察值\n",
    "height.groupby('sex').boxplot()\n"
   ]
  },
  {
   "cell_type": "code",
   "execution_count": null,
   "metadata": {},
   "outputs": [],
   "source": []
  }
 ],
 "metadata": {
  "colab": {
   "name": "Day33.YOLO 細節理解 - 網路輸出的後處理_HW.ipynb",
   "provenance": []
  },
  "kernelspec": {
   "display_name": "Python 3",
   "language": "python",
   "name": "python3"
  },
  "language_info": {
   "codemirror_mode": {
    "name": "ipython",
    "version": 3
   },
   "file_extension": ".py",
   "mimetype": "text/x-python",
   "name": "python",
   "nbconvert_exporter": "python",
   "pygments_lexer": "ipython3",
   "version": "3.7.6-final"
  }
 },
 "nbformat": 4,
 "nbformat_minor": 1
}