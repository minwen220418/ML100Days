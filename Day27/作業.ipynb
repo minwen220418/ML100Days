{
 "cells": [
  {
   "cell_type": "markdown",
   "metadata": {},
   "source": [
    "## 作業:\n",
    "今天學到2種分配，包含，   \n",
    "離散均勻分配( Discrete Uniform Distribution )   \n",
    "伯努利分配( Bernoulli Distribution )   \n",
    "\n",
    "今天我們透過作業中的問題，回想今天的內容吧!  "
   ]
  },
  {
   "cell_type": "markdown",
   "metadata": {},
   "source": [
    "### 丟一個銅板，丟了100次，出現正面 50 次的機率有多大。\n",
    "(提示: 先想是哪一種分配，然後透過 python 語法進行計算)\n"
   ]
  },
  {
   "cell_type": "code",
   "execution_count": 1,
   "metadata": {},
   "outputs": [],
   "source": [
    "import matplotlib.pyplot as plt\n",
    "import numpy as np\n",
    "import pandas as pd\n",
    "from scipy.special import comb"
   ]
  },
  {
   "cell_type": "code",
   "execution_count": 2,
   "metadata": {},
   "outputs": [
    {
     "output_type": "execute_result",
     "data": {
      "text/plain": [
       "0.07958923738717873"
      ]
     },
     "metadata": {},
     "execution_count": 2
    }
   ],
   "source": [
    "#定義二項分配的基本資料\n",
    "p = 0.5 #事件投擲硬幣出現正面的機率\n",
    "n = 100 #重複投擲100次\n",
    "x = 50 #硬幣正面出現50次\n",
    "y = comb(n, x) * p**x * (1-p)**(n-x)\n",
    "y"
   ]
  },
  {
   "cell_type": "code",
   "execution_count": null,
   "metadata": {},
   "outputs": [],
   "source": []
  }
 ],
 "metadata": {
  "colab": {
   "name": "Day33.YOLO 細節理解 - 網路輸出的後處理_HW.ipynb",
   "provenance": []
  },
  "kernelspec": {
   "display_name": "Python 3",
   "language": "python",
   "name": "python3"
  },
  "language_info": {
   "codemirror_mode": {
    "name": "ipython",
    "version": 3
   },
   "file_extension": ".py",
   "mimetype": "text/x-python",
   "name": "python",
   "nbconvert_exporter": "python",
   "pygments_lexer": "ipython3",
   "version": "3.7.6-final"
  }
 },
 "nbformat": 4,
 "nbformat_minor": 1
}