{
 "cells": [
  {
   "cell_type": "markdown",
   "metadata": {},
   "source": [
    "## 今天的作業\n",
    "在鐵達尼資料集中，今天我們專注觀察變數之間的相關性，以Titanic_train.csv 中，首先將有遺失值的數值刪除，我們取 Titanic_train.csv 的年齡資料，試著將課堂中所學的方法應用上去。\n",
    "\n",
    "* Q1: 產生一個新的變數(Age_above65_) Age>=65為 'Y'，其餘為'N'。  \n",
    "* Q2: 添加女性和男性，產生一個新的變數(Age_above65_female)，女性或Age>=65為'Y'，其餘為'N'。  \n",
    "*  Q3: 透過昨天課程的內容，驗證產生的兩個新變數，哪一個和目標變數(Survived_cate)的相關性較高?"
   ]
  },
  {
   "cell_type": "code",
   "execution_count": 1,
   "metadata": {
    "colab": {
     "base_uri": "https://localhost:8080/",
     "height": 34
    },
    "colab_type": "code",
    "executionInfo": {
     "elapsed": 1558,
     "status": "ok",
     "timestamp": 1578021044012,
     "user": {
      "displayName": "Mora chen",
      "photoUrl": "https://lh3.googleusercontent.com/a-/AAuE7mB40f7sDArbZ5_DYq02nNcnLD0Ryaf7AhsASSQeLQ=s64",
      "userId": "03171203089166907199"
     },
     "user_tz": -480
    },
    "id": "yz28_IgkYdBW",
    "outputId": "a12f486c-18b3-4fb5-d06c-f162aebd9444"
   },
   "outputs": [
    {
     "output_type": "stream",
     "name": "stdout",
     "text": [
      "0.23.2\n",
      "Requirement already satisfied: pingouin in c:\\users\\user\\anaconda3\\lib\\site-packages (0.3.10)\n",
      "Requirement already satisfied: statsmodels>=0.10.0 in c:\\users\\user\\anaconda3\\lib\\site-packages (from pingouin) (0.12.0)\n",
      "Requirement already satisfied: numpy>=1.15 in c:\\users\\user\\anaconda3\\lib\\site-packages (from pingouin) (1.19.2)\n",
      "Requirement already satisfied: pandas-flavor>=0.1.2 in c:\\users\\user\\anaconda3\\lib\\site-packages (from pingouin) (0.2.0)\n",
      "Requirement already satisfied: scipy>=1.3 in c:\\users\\user\\anaconda3\\lib\\site-packages (from pingouin) (1.5.2)\n",
      "Requirement already satisfied: scikit-learn in c:\\users\\user\\anaconda3\\lib\\site-packages (from pingouin) (0.23.2)\n",
      "Requirement already satisfied: seaborn>=0.9.0 in c:\\users\\user\\anaconda3\\lib\\site-packages (from pingouin) (0.11.0)\n",
      "Requirement already satisfied: outdated in c:\\users\\user\\anaconda3\\lib\\site-packages (from pingouin) (0.2.0)\n",
      "Requirement already satisfied: pandas>=0.24 in c:\\users\\user\\anaconda3\\lib\\site-packages (from pingouin) (1.1.3)\n",
      "Requirement already satisfied: tabulate in c:\\users\\user\\anaconda3\\lib\\site-packages (from pingouin) (0.8.9)\n",
      "Requirement already satisfied: matplotlib>=3.0.2 in c:\\users\\user\\anaconda3\\lib\\site-packages (from pingouin) (3.3.2)\n",
      "Requirement already satisfied: patsy>=0.5 in c:\\users\\user\\anaconda3\\lib\\site-packages (from statsmodels>=0.10.0->pingouin) (0.5.1)\n",
      "Requirement already satisfied: xarray in c:\\users\\user\\anaconda3\\lib\\site-packages (from pandas-flavor>=0.1.2->pingouin) (0.17.0)\n",
      "Requirement already satisfied: joblib>=0.11 in c:\\users\\user\\anaconda3\\lib\\site-packages (from scikit-learn->pingouin) (0.17.0)\n",
      "Requirement already satisfied: threadpoolctl>=2.0.0 in c:\\users\\user\\anaconda3\\lib\\site-packages (from scikit-learn->pingouin) (2.1.0)\n",
      "Requirement already satisfied: littleutils in c:\\users\\user\\anaconda3\\lib\\site-packages (from outdated->pingouin) (0.2.2)\n",
      "Requirement already satisfied: requests in c:\\users\\user\\anaconda3\\lib\\site-packages (from outdated->pingouin) (2.24.0)\n",
      "Requirement already satisfied: pytz>=2017.2 in c:\\users\\user\\anaconda3\\lib\\site-packages (from pandas>=0.24->pingouin) (2020.1)\n",
      "Requirement already satisfied: python-dateutil>=2.7.3 in c:\\users\\user\\anaconda3\\lib\\site-packages (from pandas>=0.24->pingouin) (2.8.1)\n",
      "Requirement already satisfied: pyparsing!=2.0.4,!=2.1.2,!=2.1.6,>=2.0.3 in c:\\users\\user\\anaconda3\\lib\\site-packages (from matplotlib>=3.0.2->pingouin) (2.4.7)\n",
      "Requirement already satisfied: kiwisolver>=1.0.1 in c:\\users\\user\\anaconda3\\lib\\site-packages (from matplotlib>=3.0.2->pingouin) (1.3.0)\n",
      "Requirement already satisfied: pillow>=6.2.0 in c:\\users\\user\\anaconda3\\lib\\site-packages (from matplotlib>=3.0.2->pingouin) (8.0.1)\n",
      "Requirement already satisfied: certifi>=2020.06.20 in c:\\users\\user\\anaconda3\\lib\\site-packages (from matplotlib>=3.0.2->pingouin) (2020.6.20)\n",
      "Requirement already satisfied: cycler>=0.10 in c:\\users\\user\\anaconda3\\lib\\site-packages (from matplotlib>=3.0.2->pingouin) (0.10.0)\n",
      "Requirement already satisfied: six in c:\\users\\user\\anaconda3\\lib\\site-packages (from patsy>=0.5->statsmodels>=0.10.0->pingouin) (1.15.0)\n",
      "Requirement already satisfied: setuptools>=40.4 in c:\\users\\user\\anaconda3\\lib\\site-packages (from xarray->pandas-flavor>=0.1.2->pingouin) (50.3.1.post20201107)\n",
      "Requirement already satisfied: urllib3!=1.25.0,!=1.25.1,<1.26,>=1.21.1 in c:\\users\\user\\anaconda3\\lib\\site-packages (from requests->outdated->pingouin) (1.25.11)\n",
      "Requirement already satisfied: chardet<4,>=3.0.2 in c:\\users\\user\\anaconda3\\lib\\site-packages (from requests->outdated->pingouin) (3.0.4)\n",
      "Requirement already satisfied: idna<3,>=2.5 in c:\\users\\user\\anaconda3\\lib\\site-packages (from requests->outdated->pingouin) (2.10)\n",
      "Requirement already satisfied: researchpy in c:\\users\\user\\anaconda3\\lib\\site-packages (0.2.3)\n",
      "Requirement already satisfied: scipy in c:\\users\\user\\anaconda3\\lib\\site-packages (from researchpy) (1.5.2)\n",
      "Requirement already satisfied: statsmodels in c:\\users\\user\\anaconda3\\lib\\site-packages (from researchpy) (0.12.0)\n",
      "Requirement already satisfied: pandas in c:\\users\\user\\anaconda3\\lib\\site-packages (from researchpy) (1.1.3)\n",
      "Requirement already satisfied: numpy in c:\\users\\user\\anaconda3\\lib\\site-packages (from researchpy) (1.19.2)\n",
      "Requirement already satisfied: patsy>=0.5 in c:\\users\\user\\anaconda3\\lib\\site-packages (from statsmodels->researchpy) (0.5.1)\n",
      "Requirement already satisfied: python-dateutil>=2.7.3 in c:\\users\\user\\anaconda3\\lib\\site-packages (from pandas->researchpy) (2.8.1)\n",
      "Requirement already satisfied: pytz>=2017.2 in c:\\users\\user\\anaconda3\\lib\\site-packages (from pandas->researchpy) (2020.1)\n",
      "Requirement already satisfied: six in c:\\users\\user\\anaconda3\\lib\\site-packages (from patsy>=0.5->statsmodels->researchpy) (1.15.0)\n"
     ]
    }
   ],
   "source": [
    "# library\n",
    "import matplotlib.pyplot as plt\n",
    "import numpy as np\n",
    "import pandas as pd\n",
    "from scipy import stats\n",
    "import math\n",
    "import statistics\n",
    "import seaborn as sns\n",
    "from IPython.display import display\n",
    "import sklearn\n",
    "print(sklearn.__version__)\n",
    "#如果只有 0.19 記得要更新至 最新版本\n",
    "%matplotlib inline\n",
    "\n",
    "\n",
    "#顯示所有行\n",
    "pd.set_option('display.max_columns', None)\n",
    "#顯示所有列\n",
    "pd.set_option('display.max_rows', None)\n",
    "#顯示行設定\n",
    "pd.set_option('max_colwidth',100)\n",
    "\n",
    "\n",
    "!pip install pingouin\n",
    "import pingouin as pg\n",
    "!pip install researchpy\n",
    "import researchpy   \n",
    " "
   ]
  },
  {
   "cell_type": "markdown",
   "metadata": {},
   "source": [
    "## 讀入資料"
   ]
  },
  {
   "cell_type": "code",
   "execution_count": 2,
   "metadata": {},
   "outputs": [
    {
     "output_type": "stream",
     "name": "stdout",
     "text": [
      "<class 'pandas.core.frame.DataFrame'>\nRangeIndex: 891 entries, 0 to 890\nData columns (total 12 columns):\n #   Column       Non-Null Count  Dtype  \n---  ------       --------------  -----  \n 0   PassengerId  891 non-null    int64  \n 1   Survived     891 non-null    int64  \n 2   Pclass       891 non-null    int64  \n 3   Name         891 non-null    object \n 4   Sex          891 non-null    object \n 5   Age          714 non-null    float64\n 6   SibSp        891 non-null    int64  \n 7   Parch        891 non-null    int64  \n 8   Ticket       891 non-null    object \n 9   Fare         891 non-null    float64\n 10  Cabin        204 non-null    object \n 11  Embarked     889 non-null    object \ndtypes: float64(2), int64(5), object(5)\nmemory usage: 83.7+ KB\nNone\n"
     ]
    }
   ],
   "source": [
    "df_train = pd.read_csv(r'D:\\ML100\\Day35\\Titanic_train.csv')\n",
    "print(df_train.info())"
   ]
  },
  {
   "cell_type": "code",
   "execution_count": 3,
   "metadata": {},
   "outputs": [
    {
     "output_type": "stream",
     "name": "stdout",
     "text": [
      "<class 'pandas.core.frame.DataFrame'>\nRangeIndex: 891 entries, 0 to 890\nData columns (total 13 columns):\n #   Column         Non-Null Count  Dtype  \n---  ------         --------------  -----  \n 0   PassengerId    891 non-null    int64  \n 1   Survived       891 non-null    int64  \n 2   Pclass         891 non-null    int64  \n 3   Name           891 non-null    object \n 4   Sex            891 non-null    object \n 5   Age            714 non-null    float64\n 6   SibSp          891 non-null    int64  \n 7   Parch          891 non-null    int64  \n 8   Ticket         891 non-null    object \n 9   Fare           891 non-null    float64\n 10  Cabin          204 non-null    object \n 11  Embarked       889 non-null    object \n 12  Survived_cate  891 non-null    object \ndtypes: float64(2), int64(5), object(6)\nmemory usage: 90.6+ KB\nNone\n"
     ]
    }
   ],
   "source": [
    "#1.產稱一個新的變數 Survived_cate ，資料型態傳換成類別型態      \n",
    "#2.把題目中的 Survived 用 Survived_cate 來做分析    \n",
    "#df_train['Survived_cate']=df_train['Survived']\n",
    "#df_train['Survived_cate']=df_train['Survived_cate'].astype('object')\n",
    "df_train['Survived_cate'] = df_train['Survived'].astype(str)\n",
    "print(df_train.info())"
   ]
  },
  {
   "cell_type": "code",
   "execution_count": 4,
   "metadata": {},
   "outputs": [
    {
     "output_type": "stream",
     "name": "stdout",
     "text": [
      "<class 'pandas.core.frame.DataFrame'>\nInt64Index: 714 entries, 0 to 890\nData columns (total 3 columns):\n #   Column         Non-Null Count  Dtype  \n---  ------         --------------  -----  \n 0   Age            714 non-null    float64\n 1   Survived_cate  714 non-null    object \n 2   Sex            714 non-null    object \ndtypes: float64(1), object(2)\nmemory usage: 22.3+ KB\n"
     ]
    }
   ],
   "source": [
    "#我們先把遺失值刪除\n",
    "## 取出資料後，把遺失值刪除\n",
    "complete_data=df_train[['Age','Survived_cate','Sex']].dropna()\n",
    "complete_data.info()"
   ]
  },
  {
   "cell_type": "code",
   "execution_count": 5,
   "metadata": {},
   "outputs": [
    {
     "output_type": "execute_result",
     "data": {
      "text/plain": [
       "    Age Survived_cate     Sex\n",
       "0  22.0             0    male\n",
       "1  38.0             1  female\n",
       "2  26.0             1  female\n",
       "3  35.0             1  female\n",
       "4  35.0             0    male"
      ],
      "text/html": "<div>\n<style scoped>\n    .dataframe tbody tr th:only-of-type {\n        vertical-align: middle;\n    }\n\n    .dataframe tbody tr th {\n        vertical-align: top;\n    }\n\n    .dataframe thead th {\n        text-align: right;\n    }\n</style>\n<table border=\"1\" class=\"dataframe\">\n  <thead>\n    <tr style=\"text-align: right;\">\n      <th></th>\n      <th>Age</th>\n      <th>Survived_cate</th>\n      <th>Sex</th>\n    </tr>\n  </thead>\n  <tbody>\n    <tr>\n      <th>0</th>\n      <td>22.0</td>\n      <td>0</td>\n      <td>male</td>\n    </tr>\n    <tr>\n      <th>1</th>\n      <td>38.0</td>\n      <td>1</td>\n      <td>female</td>\n    </tr>\n    <tr>\n      <th>2</th>\n      <td>26.0</td>\n      <td>1</td>\n      <td>female</td>\n    </tr>\n    <tr>\n      <th>3</th>\n      <td>35.0</td>\n      <td>1</td>\n      <td>female</td>\n    </tr>\n    <tr>\n      <th>4</th>\n      <td>35.0</td>\n      <td>0</td>\n      <td>male</td>\n    </tr>\n  </tbody>\n</table>\n</div>"
     },
     "metadata": {},
     "execution_count": 5
    }
   ],
   "source": [
    "complete_data.head(5)"
   ]
  },
  {
   "cell_type": "markdown",
   "metadata": {},
   "source": [
    "### Q1: 產生一個新的變數(Age_above65_) Age>=65為 'Y'，其餘為'N'。\n"
   ]
  },
  {
   "cell_type": "code",
   "execution_count": 5,
   "metadata": {},
   "outputs": [
    {
     "output_type": "execute_result",
     "data": {
      "text/plain": [
       "Age              11\n",
       "Survived_cate    11\n",
       "Sex              11\n",
       "Ageabove65       11\n",
       "dtype: int64"
      ]
     },
     "metadata": {},
     "execution_count": 5
    }
   ],
   "source": [
    "complete_data['Ageabove65'] = complete_data['Age'].apply((lambda x: 'Y' if x >=65 else 'N'))\n",
    "complete_data[complete_data['Ageabove65']=='Y'].count()"
   ]
  },
  {
   "cell_type": "code",
   "execution_count": 6,
   "metadata": {},
   "outputs": [
    {
     "output_type": "execute_result",
     "data": {
      "text/plain": [
       "Index(['Age', 'Survived_cate', 'Sex', 'Ageabove65'], dtype='object')"
      ]
     },
     "metadata": {},
     "execution_count": 6
    }
   ],
   "source": [
    "complete_data.columns"
   ]
  },
  {
   "cell_type": "markdown",
   "metadata": {},
   "source": [
    "### Q2: 添加女性和男性，產生一個新的變數(Age_above65_female)，女性或Age>=65為'Y'，其餘為'N'。\n",
    "* 暗示: 觀看下面影片找答案，https://www.youtube.com/watch?v=X2d-wUt5azY"
   ]
  },
  {
   "cell_type": "code",
   "execution_count": 7,
   "metadata": {},
   "outputs": [
    {
     "output_type": "execute_result",
     "data": {
      "text/plain": [
       "    Age Survived_cate     Sex Ageabove65 Age_above65_female\n",
       "0  22.0             0    male          N                  N\n",
       "1  38.0             1  female          N                  Y\n",
       "2  26.0             1  female          N                  Y\n",
       "3  35.0             1  female          N                  Y\n",
       "4  35.0             0    male          N                  N"
      ],
      "text/html": "<div>\n<style scoped>\n    .dataframe tbody tr th:only-of-type {\n        vertical-align: middle;\n    }\n\n    .dataframe tbody tr th {\n        vertical-align: top;\n    }\n\n    .dataframe thead th {\n        text-align: right;\n    }\n</style>\n<table border=\"1\" class=\"dataframe\">\n  <thead>\n    <tr style=\"text-align: right;\">\n      <th></th>\n      <th>Age</th>\n      <th>Survived_cate</th>\n      <th>Sex</th>\n      <th>Ageabove65</th>\n      <th>Age_above65_female</th>\n    </tr>\n  </thead>\n  <tbody>\n    <tr>\n      <th>0</th>\n      <td>22.0</td>\n      <td>0</td>\n      <td>male</td>\n      <td>N</td>\n      <td>N</td>\n    </tr>\n    <tr>\n      <th>1</th>\n      <td>38.0</td>\n      <td>1</td>\n      <td>female</td>\n      <td>N</td>\n      <td>Y</td>\n    </tr>\n    <tr>\n      <th>2</th>\n      <td>26.0</td>\n      <td>1</td>\n      <td>female</td>\n      <td>N</td>\n      <td>Y</td>\n    </tr>\n    <tr>\n      <th>3</th>\n      <td>35.0</td>\n      <td>1</td>\n      <td>female</td>\n      <td>N</td>\n      <td>Y</td>\n    </tr>\n    <tr>\n      <th>4</th>\n      <td>35.0</td>\n      <td>0</td>\n      <td>male</td>\n      <td>N</td>\n      <td>N</td>\n    </tr>\n  </tbody>\n</table>\n</div>"
     },
     "metadata": {},
     "execution_count": 7
    }
   ],
   "source": [
    "def mask(x):\n",
    "    if x.Age >= 65 or x.Sex == 'female':\n",
    "        return 'Y'\n",
    "    return 'N'\n",
    "\n",
    "complete_data['Age_above65_female'] = complete_data.apply(mask, axis=1)\n",
    "complete_data.head(5)"
   ]
  },
  {
   "cell_type": "markdown",
   "metadata": {},
   "source": [
    "### Q3: 透過昨天課程的內容，驗證產生的兩個新變數，哪一個和目標變數(Survived_cate)的相關性較高?\n",
    "* 提示:    \n",
    "  首先觀察一下這些變數的資料型態後，再來想要以哪一種判斷倆倆的相關性。     "
   ]
  },
  {
   "cell_type": "code",
   "execution_count": 9,
   "metadata": {},
   "outputs": [
    {
     "output_type": "stream",
     "name": "stdout",
     "text": [
      "<class 'pandas.core.frame.DataFrame'>\nInt64Index: 714 entries, 0 to 890\nData columns (total 5 columns):\n #   Column              Non-Null Count  Dtype  \n---  ------              --------------  -----  \n 0   Age                 714 non-null    float64\n 1   Survived_cate       714 non-null    object \n 2   Sex                 714 non-null    object \n 3   Ageabove65          714 non-null    object \n 4   Age_above65_female  714 non-null    object \ndtypes: float64(1), object(4)\nmemory usage: 53.5+ KB\n"
     ]
    }
   ],
   "source": [
    "complete_data.info()"
   ]
  },
  {
   "cell_type": "code",
   "execution_count": 16,
   "metadata": {},
   "outputs": [
    {
     "output_type": "stream",
     "name": "stdout",
     "text": [
      "Survived_cate    0    1\nAgeabove65             \nN              414  289\nY               10    1\ndf= 1\n                Chi-square test  results\n0  Pearson Chi-square ( 1.0) =    4.6035\n1                    p-value =    0.0319\n2               Cramer's phi =    0.0803\nCramer’s V 係數= 0.0803\n"
     ]
    }
   ],
   "source": [
    "#Ageabove65 和 Survived_cate皆為離散變數，運用Cramer’s V係數計算相關性，結果顯示兩者關係很薄弱\n",
    "#1.用交叉列連表整理資料\n",
    "contTable1 = pd.crosstab(complete_data['Ageabove65'],complete_data['Survived_cate'])\n",
    "print(contTable1)\n",
    "\n",
    "#2.計算自由度\n",
    "df = min(contTable1.shape[0],contTable1.shape[1])-1\n",
    "print(\"df=\",df)\n",
    "\n",
    "#3.運用researchpy 套件，計算出 Cramer’s V 係數 , \n",
    "crosstab, res = researchpy.crosstab(complete_data['Ageabove65'],complete_data['Survived_cate'], test='chi-square')\n",
    "\n",
    "print(res) #res是統計檢定表\n",
    "res.loc[2,'results']\n",
    "print(\"Cramer’s V 係數=\",res.loc[2,'results'])"
   ]
  },
  {
   "cell_type": "code",
   "execution_count": 17,
   "metadata": {},
   "outputs": [
    {
     "output_type": "stream",
     "name": "stdout",
     "text": [
      "Survived_cate         0    1\nAge_above65_female          \nN                   350   92\nY                    74  198\ndf= 1\n                Chi-square test   results\n0  Pearson Chi-square ( 1.0) =   188.6219\n1                    p-value =     0.0000\n2               Cramer's phi =     0.5140\nCramer’s V 係數= 0.514\n"
     ]
    }
   ],
   "source": [
    "#Age_above65_female 和 Survived_cate皆為離散變數，運用Cramer’s V係數計算相關性，結果顯示兩者關係很強\n",
    "#1.用交叉列連表整理資料\n",
    "contTable2 = pd.crosstab(complete_data['Age_above65_female'],complete_data['Survived_cate'])\n",
    "print(contTable2)\n",
    "\n",
    "#2.計算自由度\n",
    "df = min(contTable2.shape[0], contTable2.shape[1])-1\n",
    "print(\"df=\",df)\n",
    "\n",
    "#3.運用researchpy 套件，計算出 Cramer’s V 係數\n",
    "crosstab, res = researchpy.crosstab(complete_data['Age_above65_female'],complete_data['Survived_cate'],test='chi-square')\n",
    "\n",
    "print(res)\n",
    "res.loc[2,'results']\n",
    "print(\"Cramer’s V 係數=\",res.loc[2,'results'])"
   ]
  },
  {
   "cell_type": "code",
   "execution_count": null,
   "metadata": {},
   "outputs": [],
   "source": []
  }
 ],
 "metadata": {
  "colab": {
   "name": "Day33.YOLO 細節理解 - 網路輸出的後處理_HW.ipynb",
   "provenance": []
  },
  "kernelspec": {
   "display_name": "Python 3",
   "language": "python",
   "name": "python3"
  },
  "language_info": {
   "codemirror_mode": {
    "name": "ipython",
    "version": 3
   },
   "file_extension": ".py",
   "mimetype": "text/x-python",
   "name": "python",
   "nbconvert_exporter": "python",
   "pygments_lexer": "ipython3",
   "version": "3.8.5-final"
  }
 },
 "nbformat": 4,
 "nbformat_minor": 1
}